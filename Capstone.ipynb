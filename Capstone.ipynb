{
    "cells": [
        {
            "metadata": {
                "collapsed": true
            },
            "cell_type": "markdown",
            "source": "<H1>Coursera IBM Applied Datascience Capstone</H1>"
        },
        {
            "metadata": {},
            "cell_type": "markdown",
            "source": "<H2>1. Introduction</H2>"
        },
        {
            "metadata": {},
            "cell_type": "markdown",
            "source": "I'm going to examine the differences in venue location between two vastly different cities. I'll compare Los Angeles, California and Burlington, Vermont. \n\nBurlington is the largest city in Chittenden County Vermont with a population of just over 42,000. Burlington houses the larges airport in Vermont and was the Nation's first city to fully convert to renewable energy.  The major industries in Burlington center around the University of Vermont, a private college, and its associated medical center. Additionaly, a few larger companies have software divisions located within Burlington.\n\nLos Angeles, California has a population of 13.1 million people. Second only to New York as the most populous cities in the United States. In fact, Los Angeles county is the most populous county in the US. Los Angeles covers more than 460 square miles. With a gross metropolitan product of over 1 trillion dollars, LA is the third largest metopolitan economy in the world, larger than many countries. The economy of Los Angeles is driven largely by international trade with two of the largest ports in the world and by the entertainment industry. LA is also a major manufacturing center for the United States.\n\nThere are a lot of differences between these two cites. However, both cities have a significant eco-friendly emphasis, though not for the same things. Many such initiatives become trending in Los Angeles as people try to mimic the celebrities located there. Such efforts in Burlington draw decidely less attention, but seem to be more ingrained within the fabric of daily life.\n\nDoes the size of these cities and the differences in mindset impact the proximity of various venues to the center of these cities? Does a particular category of venue seem to predominate within each city?"
        },
        {
            "metadata": {},
            "cell_type": "markdown",
            "source": "<H2>2. Data</H2>"
        },
        {
            "metadata": {},
            "cell_type": "markdown",
            "source": "Exploratory venue data will be obtained for both cities from Foursquare. I'll use various Python libraries to look at the locations of these venues in relationship to the center of each city. I'll also compare the diversity of venues between the two cities."
        },
        {
            "metadata": {},
            "cell_type": "code",
            "source": "import json\nimport requests\nimport pandas as pd\nimport numpy as np\nimport matplotlib.cm as cm\nimport matplotlib.colors as colors\n\nfrom pandas import json_normalize\nfrom geopy.geocoders import Nominatim\nfrom sklearn.cluster import KMeans\n\n!pip install folium\nimport folium",
            "execution_count": 1,
            "outputs": [
                {
                    "output_type": "stream",
                    "text": "Collecting folium\n  Downloading folium-0.12.1-py2.py3-none-any.whl (94 kB)\n\u001b[K     |\u2588\u2588\u2588\u2588\u2588\u2588\u2588\u2588\u2588\u2588\u2588\u2588\u2588\u2588\u2588\u2588\u2588\u2588\u2588\u2588\u2588\u2588\u2588\u2588\u2588\u2588\u2588\u2588\u2588\u2588\u2588\u2588| 94 kB 5.5 MB/s  eta 0:00:01\n\u001b[?25hRequirement already satisfied: jinja2>=2.9 in /opt/conda/envs/Python-3.7-main/lib/python3.7/site-packages (from folium) (2.11.2)\nRequirement already satisfied: requests in /opt/conda/envs/Python-3.7-main/lib/python3.7/site-packages (from folium) (2.24.0)\nRequirement already satisfied: numpy in /opt/conda/envs/Python-3.7-main/lib/python3.7/site-packages (from folium) (1.18.5)\nCollecting branca>=0.3.0\n  Downloading branca-0.4.2-py3-none-any.whl (24 kB)\nRequirement already satisfied: MarkupSafe>=0.23 in /opt/conda/envs/Python-3.7-main/lib/python3.7/site-packages (from jinja2>=2.9->folium) (1.1.1)\nRequirement already satisfied: idna<3,>=2.5 in /opt/conda/envs/Python-3.7-main/lib/python3.7/site-packages (from requests->folium) (2.9)\nRequirement already satisfied: chardet<4,>=3.0.2 in /opt/conda/envs/Python-3.7-main/lib/python3.7/site-packages (from requests->folium) (3.0.4)\nRequirement already satisfied: urllib3!=1.25.0,!=1.25.1,<1.26,>=1.21.1 in /opt/conda/envs/Python-3.7-main/lib/python3.7/site-packages (from requests->folium) (1.25.9)\nRequirement already satisfied: certifi>=2017.4.17 in /opt/conda/envs/Python-3.7-main/lib/python3.7/site-packages (from requests->folium) (2020.12.5)\nInstalling collected packages: branca, folium\nSuccessfully installed branca-0.4.2 folium-0.12.1\n",
                    "name": "stdout"
                }
            ]
        },
        {
            "metadata": {},
            "cell_type": "code",
            "source": "# @hidden_cell\n\nCLIENT_ID='ROOX3NJ34KEQE4EQLBAY1OXYIIXNHIYYJU1JCVGVPAW0PSVJ'\nCLIENT_SECRET='CILQHFLRWG23B5JULVVYOIB13NWS3PDULBHJDE5OCPSO0VWF'\nVERSION = '20210101'\nLIMIT = 100",
            "execution_count": 2,
            "outputs": []
        },
        {
            "metadata": {},
            "cell_type": "code",
            "source": "#Get locations for the two cities\nca_address=\"Los Angeles, California\"\nvt_address=\"Burlington, Vermont\"\n\ngeolocator = Nominatim(user_agent=\"cn_explorer\")\n\nca_location = geolocator.geocode(ca_address)\nca_latitude = ca_location.latitude\nca_longitude = ca_location.longitude\n\nvt_location = geolocator.geocode(vt_address)\nvt_latitude = vt_location.latitude\nvt_longitude = vt_location.longitude",
            "execution_count": 3,
            "outputs": []
        },
        {
            "metadata": {},
            "cell_type": "code",
            "source": "# function that extracts the category of the venue\ndef get_category_type(row):\n    try:\n        categories_list = row['categories']\n    except:\n        categories_list = row['venue.categories']\n        \n    if len(categories_list) == 0:\n        return None\n    else:\n        return categories_list[0]['name']\n\n#function to get nearby venues for the two cities\ndef getNearbyVenues(name, latitude, longitude, radius=1000):\n    \n    venues_list = []\n    print(name)\n    \n    searchType = 'explore'\n    #create the API request\n    url = 'https://api.foursquare.com/v2/venues/{}?&client_id={}&client_secret={}&ll={}, {}&v={}&radius={}&limit={}&intent=browse'.format(\n        searchType,\n        CLIENT_ID,\n        CLIENT_SECRET,\n        latitude,\n        longitude,\n        VERSION,\n        radius,\n        LIMIT)\n\n    #create the GET request\n    result = requests.get(url).json()\n    \n    if searchType == 'explore':\n        venues = result['response']['groups'][0]['items']\n    else:\n        if len(result['response']['venues'])==0:\n            return('No tredning venues at this time')\n        else:\n            venues = result['response']['venues']\n    \n    nearby_venues = json_normalize(venues)\n    \n    #remove unwanted columns\n    filtered_columns = ['venue.name', 'venue.location.lat', 'venue.location.lng', 'venue.categories']\n    nearby_venues = nearby_venues.loc[:, filtered_columns]\n    \n    #get category for each row\n    nearby_venues['venue.categories'] = nearby_venues.apply(get_category_type, axis=1)\n    \n    #fix headers\n    nearby_venues.columns = [col.split(\".\")[-1] for col in nearby_venues.columns]\n\n    return(nearby_venues)",
            "execution_count": 4,
            "outputs": []
        },
        {
            "metadata": {},
            "cell_type": "code",
            "source": "#Get the nearby venues for the LA\nLA_venues = getNearbyVenues(name=\"LA\",\n                                  latitude=ca_latitude,\n                                  longitude=ca_longitude)\n\n#Get the nearby venues for Burlington\nburlington_venues = getNearbyVenues(name=\"Burlington\",\n                                  latitude=vt_latitude,\n                                  longitude=vt_longitude)",
            "execution_count": 5,
            "outputs": [
                {
                    "output_type": "stream",
                    "text": "LA\nBurlington\n",
                    "name": "stdout"
                }
            ]
        },
        {
            "metadata": {},
            "cell_type": "code",
            "source": "LA_venues",
            "execution_count": 13,
            "outputs": [
                {
                    "output_type": "execute_result",
                    "execution_count": 13,
                    "data": {
                        "text/plain": "                                                 name        lat         lng  \\\n0                                          Grand Park  34.055034 -118.245179   \n1                                            Badmaash  34.051342 -118.244571   \n2                                             Redbird  34.050666 -118.244068   \n3                                Kinokuniya Bookstore  34.050145 -118.242246   \n4                                        Birds & Bees  34.052090 -118.247376   \n..                                                ...        ...         ...   \n95                                    Mendocino Farms  34.052485 -118.251422   \n96  Japanese American Cultural & Community Center ...  34.047810 -118.241628   \n97                            Olio Wood Fire Pizzeria  34.050746 -118.248953   \n98                                             Sanrio  34.049034 -118.239956   \n99                          TOT / Teishokuya of Tokyo  34.048567 -118.240549   \n\n             categories  center_dist  \n0                  Park     0.268012  \n1     Indian Restaurant     0.309260  \n2   American Restaurant     0.356410  \n3             Bookstore     0.396289  \n4             Speakeasy     0.461168  \n..                  ...          ...  \n95       Sandwich Place     0.810283  \n96         Concert Hall     0.660793  \n97          Pizza Place     0.658028  \n98            Gift Shop     0.578018  \n99  Japanese Restaurant     0.604094  \n\n[100 rows x 5 columns]",
                        "text/html": "<div>\n<style scoped>\n    .dataframe tbody tr th:only-of-type {\n        vertical-align: middle;\n    }\n\n    .dataframe tbody tr th {\n        vertical-align: top;\n    }\n\n    .dataframe thead th {\n        text-align: right;\n    }\n</style>\n<table border=\"1\" class=\"dataframe\">\n  <thead>\n    <tr style=\"text-align: right;\">\n      <th></th>\n      <th>name</th>\n      <th>lat</th>\n      <th>lng</th>\n      <th>categories</th>\n      <th>center_dist</th>\n    </tr>\n  </thead>\n  <tbody>\n    <tr>\n      <th>0</th>\n      <td>Grand Park</td>\n      <td>34.055034</td>\n      <td>-118.245179</td>\n      <td>Park</td>\n      <td>0.268012</td>\n    </tr>\n    <tr>\n      <th>1</th>\n      <td>Badmaash</td>\n      <td>34.051342</td>\n      <td>-118.244571</td>\n      <td>Indian Restaurant</td>\n      <td>0.309260</td>\n    </tr>\n    <tr>\n      <th>2</th>\n      <td>Redbird</td>\n      <td>34.050666</td>\n      <td>-118.244068</td>\n      <td>American Restaurant</td>\n      <td>0.356410</td>\n    </tr>\n    <tr>\n      <th>3</th>\n      <td>Kinokuniya Bookstore</td>\n      <td>34.050145</td>\n      <td>-118.242246</td>\n      <td>Bookstore</td>\n      <td>0.396289</td>\n    </tr>\n    <tr>\n      <th>4</th>\n      <td>Birds &amp; Bees</td>\n      <td>34.052090</td>\n      <td>-118.247376</td>\n      <td>Speakeasy</td>\n      <td>0.461168</td>\n    </tr>\n    <tr>\n      <th>...</th>\n      <td>...</td>\n      <td>...</td>\n      <td>...</td>\n      <td>...</td>\n      <td>...</td>\n    </tr>\n    <tr>\n      <th>95</th>\n      <td>Mendocino Farms</td>\n      <td>34.052485</td>\n      <td>-118.251422</td>\n      <td>Sandwich Place</td>\n      <td>0.810283</td>\n    </tr>\n    <tr>\n      <th>96</th>\n      <td>Japanese American Cultural &amp; Community Center ...</td>\n      <td>34.047810</td>\n      <td>-118.241628</td>\n      <td>Concert Hall</td>\n      <td>0.660793</td>\n    </tr>\n    <tr>\n      <th>97</th>\n      <td>Olio Wood Fire Pizzeria</td>\n      <td>34.050746</td>\n      <td>-118.248953</td>\n      <td>Pizza Place</td>\n      <td>0.658028</td>\n    </tr>\n    <tr>\n      <th>98</th>\n      <td>Sanrio</td>\n      <td>34.049034</td>\n      <td>-118.239956</td>\n      <td>Gift Shop</td>\n      <td>0.578018</td>\n    </tr>\n    <tr>\n      <th>99</th>\n      <td>TOT / Teishokuya of Tokyo</td>\n      <td>34.048567</td>\n      <td>-118.240549</td>\n      <td>Japanese Restaurant</td>\n      <td>0.604094</td>\n    </tr>\n  </tbody>\n</table>\n<p>100 rows \u00d7 5 columns</p>\n</div>"
                    },
                    "metadata": {}
                }
            ]
        },
        {
            "metadata": {},
            "cell_type": "code",
            "source": "burlington_venues",
            "execution_count": 6,
            "outputs": [
                {
                    "output_type": "execute_result",
                    "execution_count": 6,
                    "data": {
                        "text/plain": "                                    name        lat        lng  \\\n0                     American Flatbread  44.476618 -73.214058   \n1                            Onyx Tonics  44.477074 -73.214772   \n2             Burlington Farmers' Market  44.476528 -73.213548   \n3        Mad River Distillers Burlington  44.476062 -73.214180   \n4              The Farmhouse Tap & Grill  44.478278 -73.213233   \n5              Church Street Marketplace  44.478649 -73.212708   \n6                        A Single Pebble  44.478005 -73.214480   \n7                              Dobra Tea  44.478213 -73.212494   \n8                         Friendly Toast  44.477422 -73.214131   \n9                        Leunig's Bistro  44.477178 -73.212605   \n10                          Muddy Waters  44.476064 -73.211865   \n11                            Honey Road  44.476311 -73.212078   \n12                      Penny Cluse Caf\u00e9  44.479255 -73.211384   \n13       City Market (Onion River Co-op)  44.478046 -73.210720   \n14               Monarch  & the Milkweed  44.476717 -73.214260   \n15                            Stone Soup  44.477163 -73.211328   \n16                       Hen Of The Wood  44.479152 -73.217475   \n17  Flynn Center for the Performing Arts  44.475304 -73.213128   \n18                    Pascolo Ristorante  44.478090 -73.212778   \n19                 Saratoga Olive Oil Co  44.477960 -73.212582   \n20                         Ben & Jerry's  44.479428 -73.212489   \n21                       Pizzeria Verita  44.475187 -73.213729   \n22                 Outdoor Gear Exchange  44.479176 -73.212907   \n23                          Zero Gravity  44.476570 -73.213890   \n24                       Trattoria Delia  44.475548 -73.213983   \n25                          August First  44.475477 -73.217200   \n26                          The Archives  44.477031 -73.212287   \n27                 The Swingin' Pinwheel  44.477839 -73.211725   \n28         Uncommon Grounds Coffee & Tea  44.479119 -73.212679   \n29            Perrywinkle's Fine Jewelry  44.475520 -73.209630   \n\n                       categories  \n0                     Pizza Place  \n1                     Coffee Shop  \n2                  Farmers Market  \n3                      Distillery  \n4                       Gastropub  \n5                   Shopping Mall  \n6              Chinese Restaurant  \n7                        Tea Room  \n8                  Breakfast Spot  \n9                          Bistro  \n10                           Caf\u00e9  \n11       Mediterranean Restaurant  \n12                 Breakfast Spot  \n13                Organic Grocery  \n14                         Bakery  \n15  Vegetarian / Vegan Restaurant  \n16        New American Restaurant  \n17          Performing Arts Venue  \n18             Italian Restaurant  \n19                   Gourmet Shop  \n20                 Ice Cream Shop  \n21                    Pizza Place  \n22            Sporting Goods Shop  \n23                        Brewery  \n24             Italian Restaurant  \n25                         Bakery  \n26                            Bar  \n27                 Breakfast Spot  \n28                    Coffee Shop  \n29                  Jewelry Store  ",
                        "text/html": "<div>\n<style scoped>\n    .dataframe tbody tr th:only-of-type {\n        vertical-align: middle;\n    }\n\n    .dataframe tbody tr th {\n        vertical-align: top;\n    }\n\n    .dataframe thead th {\n        text-align: right;\n    }\n</style>\n<table border=\"1\" class=\"dataframe\">\n  <thead>\n    <tr style=\"text-align: right;\">\n      <th></th>\n      <th>name</th>\n      <th>lat</th>\n      <th>lng</th>\n      <th>categories</th>\n    </tr>\n  </thead>\n  <tbody>\n    <tr>\n      <th>0</th>\n      <td>American Flatbread</td>\n      <td>44.476618</td>\n      <td>-73.214058</td>\n      <td>Pizza Place</td>\n    </tr>\n    <tr>\n      <th>1</th>\n      <td>Onyx Tonics</td>\n      <td>44.477074</td>\n      <td>-73.214772</td>\n      <td>Coffee Shop</td>\n    </tr>\n    <tr>\n      <th>2</th>\n      <td>Burlington Farmers' Market</td>\n      <td>44.476528</td>\n      <td>-73.213548</td>\n      <td>Farmers Market</td>\n    </tr>\n    <tr>\n      <th>3</th>\n      <td>Mad River Distillers Burlington</td>\n      <td>44.476062</td>\n      <td>-73.214180</td>\n      <td>Distillery</td>\n    </tr>\n    <tr>\n      <th>4</th>\n      <td>The Farmhouse Tap &amp; Grill</td>\n      <td>44.478278</td>\n      <td>-73.213233</td>\n      <td>Gastropub</td>\n    </tr>\n    <tr>\n      <th>5</th>\n      <td>Church Street Marketplace</td>\n      <td>44.478649</td>\n      <td>-73.212708</td>\n      <td>Shopping Mall</td>\n    </tr>\n    <tr>\n      <th>6</th>\n      <td>A Single Pebble</td>\n      <td>44.478005</td>\n      <td>-73.214480</td>\n      <td>Chinese Restaurant</td>\n    </tr>\n    <tr>\n      <th>7</th>\n      <td>Dobra Tea</td>\n      <td>44.478213</td>\n      <td>-73.212494</td>\n      <td>Tea Room</td>\n    </tr>\n    <tr>\n      <th>8</th>\n      <td>Friendly Toast</td>\n      <td>44.477422</td>\n      <td>-73.214131</td>\n      <td>Breakfast Spot</td>\n    </tr>\n    <tr>\n      <th>9</th>\n      <td>Leunig's Bistro</td>\n      <td>44.477178</td>\n      <td>-73.212605</td>\n      <td>Bistro</td>\n    </tr>\n    <tr>\n      <th>10</th>\n      <td>Muddy Waters</td>\n      <td>44.476064</td>\n      <td>-73.211865</td>\n      <td>Caf\u00e9</td>\n    </tr>\n    <tr>\n      <th>11</th>\n      <td>Honey Road</td>\n      <td>44.476311</td>\n      <td>-73.212078</td>\n      <td>Mediterranean Restaurant</td>\n    </tr>\n    <tr>\n      <th>12</th>\n      <td>Penny Cluse Caf\u00e9</td>\n      <td>44.479255</td>\n      <td>-73.211384</td>\n      <td>Breakfast Spot</td>\n    </tr>\n    <tr>\n      <th>13</th>\n      <td>City Market (Onion River Co-op)</td>\n      <td>44.478046</td>\n      <td>-73.210720</td>\n      <td>Organic Grocery</td>\n    </tr>\n    <tr>\n      <th>14</th>\n      <td>Monarch  &amp; the Milkweed</td>\n      <td>44.476717</td>\n      <td>-73.214260</td>\n      <td>Bakery</td>\n    </tr>\n    <tr>\n      <th>15</th>\n      <td>Stone Soup</td>\n      <td>44.477163</td>\n      <td>-73.211328</td>\n      <td>Vegetarian / Vegan Restaurant</td>\n    </tr>\n    <tr>\n      <th>16</th>\n      <td>Hen Of The Wood</td>\n      <td>44.479152</td>\n      <td>-73.217475</td>\n      <td>New American Restaurant</td>\n    </tr>\n    <tr>\n      <th>17</th>\n      <td>Flynn Center for the Performing Arts</td>\n      <td>44.475304</td>\n      <td>-73.213128</td>\n      <td>Performing Arts Venue</td>\n    </tr>\n    <tr>\n      <th>18</th>\n      <td>Pascolo Ristorante</td>\n      <td>44.478090</td>\n      <td>-73.212778</td>\n      <td>Italian Restaurant</td>\n    </tr>\n    <tr>\n      <th>19</th>\n      <td>Saratoga Olive Oil Co</td>\n      <td>44.477960</td>\n      <td>-73.212582</td>\n      <td>Gourmet Shop</td>\n    </tr>\n    <tr>\n      <th>20</th>\n      <td>Ben &amp; Jerry's</td>\n      <td>44.479428</td>\n      <td>-73.212489</td>\n      <td>Ice Cream Shop</td>\n    </tr>\n    <tr>\n      <th>21</th>\n      <td>Pizzeria Verita</td>\n      <td>44.475187</td>\n      <td>-73.213729</td>\n      <td>Pizza Place</td>\n    </tr>\n    <tr>\n      <th>22</th>\n      <td>Outdoor Gear Exchange</td>\n      <td>44.479176</td>\n      <td>-73.212907</td>\n      <td>Sporting Goods Shop</td>\n    </tr>\n    <tr>\n      <th>23</th>\n      <td>Zero Gravity</td>\n      <td>44.476570</td>\n      <td>-73.213890</td>\n      <td>Brewery</td>\n    </tr>\n    <tr>\n      <th>24</th>\n      <td>Trattoria Delia</td>\n      <td>44.475548</td>\n      <td>-73.213983</td>\n      <td>Italian Restaurant</td>\n    </tr>\n    <tr>\n      <th>25</th>\n      <td>August First</td>\n      <td>44.475477</td>\n      <td>-73.217200</td>\n      <td>Bakery</td>\n    </tr>\n    <tr>\n      <th>26</th>\n      <td>The Archives</td>\n      <td>44.477031</td>\n      <td>-73.212287</td>\n      <td>Bar</td>\n    </tr>\n    <tr>\n      <th>27</th>\n      <td>The Swingin' Pinwheel</td>\n      <td>44.477839</td>\n      <td>-73.211725</td>\n      <td>Breakfast Spot</td>\n    </tr>\n    <tr>\n      <th>28</th>\n      <td>Uncommon Grounds Coffee &amp; Tea</td>\n      <td>44.479119</td>\n      <td>-73.212679</td>\n      <td>Coffee Shop</td>\n    </tr>\n    <tr>\n      <th>29</th>\n      <td>Perrywinkle's Fine Jewelry</td>\n      <td>44.475520</td>\n      <td>-73.209630</td>\n      <td>Jewelry Store</td>\n    </tr>\n  </tbody>\n</table>\n</div>"
                    },
                    "metadata": {}
                }
            ]
        },
        {
            "metadata": {},
            "cell_type": "markdown",
            "source": "<H2>3. Methods</H2>"
        },
        {
            "metadata": {},
            "cell_type": "markdown",
            "source": "Initial analysis of the data will begin by looking at the geographic distribution of the venues using geopy. I'll calculate a distance from city center for each venue and then summarize those by venue category and overall average distance. These distances will be compared between cities.\n\nA comparison of categories will also be performed. Given the large difference in population between the two cities, this will be done via percentage. For example, what percentage of the venues are for coffee shops between the two cities and so forth.\n\nLastly, I'll look at the mix of trending venues between the two cities. This will be a more subjective measure in an attempt to see if the general type of trending venue differs between cities."
        },
        {
            "metadata": {},
            "cell_type": "markdown",
            "source": "<H2>4. Results</H2>"
        },
        {
            "metadata": {},
            "cell_type": "code",
            "source": "from geopy import distance\n#start by looking at distance from city center for each venue\n#LA First\nla_center = (ca_latitude, ca_longitude)\nLA_venues['center_dist'] = [distance.distance((a, b), la_center).km for a, b in LA_venues[['lat', 'lng']].values]\nLA_venues",
            "execution_count": 14,
            "outputs": [
                {
                    "output_type": "execute_result",
                    "execution_count": 14,
                    "data": {
                        "text/plain": "                                                 name        lat         lng  \\\n0                                          Grand Park  34.055034 -118.245179   \n1                                            Badmaash  34.051342 -118.244571   \n2                                             Redbird  34.050666 -118.244068   \n3                                Kinokuniya Bookstore  34.050145 -118.242246   \n4                                        Birds & Bees  34.052090 -118.247376   \n..                                                ...        ...         ...   \n95                                    Mendocino Farms  34.052485 -118.251422   \n96  Japanese American Cultural & Community Center ...  34.047810 -118.241628   \n97                            Olio Wood Fire Pizzeria  34.050746 -118.248953   \n98                                             Sanrio  34.049034 -118.239956   \n99                          TOT / Teishokuya of Tokyo  34.048567 -118.240549   \n\n             categories  center_dist  \n0                  Park     0.268012  \n1     Indian Restaurant     0.309260  \n2   American Restaurant     0.356410  \n3             Bookstore     0.396289  \n4             Speakeasy     0.461168  \n..                  ...          ...  \n95       Sandwich Place     0.810283  \n96         Concert Hall     0.660793  \n97          Pizza Place     0.658028  \n98            Gift Shop     0.578018  \n99  Japanese Restaurant     0.604094  \n\n[100 rows x 5 columns]",
                        "text/html": "<div>\n<style scoped>\n    .dataframe tbody tr th:only-of-type {\n        vertical-align: middle;\n    }\n\n    .dataframe tbody tr th {\n        vertical-align: top;\n    }\n\n    .dataframe thead th {\n        text-align: right;\n    }\n</style>\n<table border=\"1\" class=\"dataframe\">\n  <thead>\n    <tr style=\"text-align: right;\">\n      <th></th>\n      <th>name</th>\n      <th>lat</th>\n      <th>lng</th>\n      <th>categories</th>\n      <th>center_dist</th>\n    </tr>\n  </thead>\n  <tbody>\n    <tr>\n      <th>0</th>\n      <td>Grand Park</td>\n      <td>34.055034</td>\n      <td>-118.245179</td>\n      <td>Park</td>\n      <td>0.268012</td>\n    </tr>\n    <tr>\n      <th>1</th>\n      <td>Badmaash</td>\n      <td>34.051342</td>\n      <td>-118.244571</td>\n      <td>Indian Restaurant</td>\n      <td>0.309260</td>\n    </tr>\n    <tr>\n      <th>2</th>\n      <td>Redbird</td>\n      <td>34.050666</td>\n      <td>-118.244068</td>\n      <td>American Restaurant</td>\n      <td>0.356410</td>\n    </tr>\n    <tr>\n      <th>3</th>\n      <td>Kinokuniya Bookstore</td>\n      <td>34.050145</td>\n      <td>-118.242246</td>\n      <td>Bookstore</td>\n      <td>0.396289</td>\n    </tr>\n    <tr>\n      <th>4</th>\n      <td>Birds &amp; Bees</td>\n      <td>34.052090</td>\n      <td>-118.247376</td>\n      <td>Speakeasy</td>\n      <td>0.461168</td>\n    </tr>\n    <tr>\n      <th>...</th>\n      <td>...</td>\n      <td>...</td>\n      <td>...</td>\n      <td>...</td>\n      <td>...</td>\n    </tr>\n    <tr>\n      <th>95</th>\n      <td>Mendocino Farms</td>\n      <td>34.052485</td>\n      <td>-118.251422</td>\n      <td>Sandwich Place</td>\n      <td>0.810283</td>\n    </tr>\n    <tr>\n      <th>96</th>\n      <td>Japanese American Cultural &amp; Community Center ...</td>\n      <td>34.047810</td>\n      <td>-118.241628</td>\n      <td>Concert Hall</td>\n      <td>0.660793</td>\n    </tr>\n    <tr>\n      <th>97</th>\n      <td>Olio Wood Fire Pizzeria</td>\n      <td>34.050746</td>\n      <td>-118.248953</td>\n      <td>Pizza Place</td>\n      <td>0.658028</td>\n    </tr>\n    <tr>\n      <th>98</th>\n      <td>Sanrio</td>\n      <td>34.049034</td>\n      <td>-118.239956</td>\n      <td>Gift Shop</td>\n      <td>0.578018</td>\n    </tr>\n    <tr>\n      <th>99</th>\n      <td>TOT / Teishokuya of Tokyo</td>\n      <td>34.048567</td>\n      <td>-118.240549</td>\n      <td>Japanese Restaurant</td>\n      <td>0.604094</td>\n    </tr>\n  </tbody>\n</table>\n<p>100 rows \u00d7 5 columns</p>\n</div>"
                    },
                    "metadata": {}
                }
            ]
        },
        {
            "metadata": {},
            "cell_type": "code",
            "source": "#Burlington\nburl_center = (vt_latitude, vt_longitude)\nburlington_venues['center_dist'] = [distance.distance((a, b), burl_center).km for a, b in burlington_venues[['lat', 'lng']].values]\nburlington_venues.head()",
            "execution_count": 6,
            "outputs": [
                {
                    "output_type": "execute_result",
                    "execution_count": 6,
                    "data": {
                        "text/plain": "                              name        lat        lng      categories  \\\n0               American Flatbread  44.476618 -73.214058     Pizza Place   \n1                      Onyx Tonics  44.477074 -73.214772     Coffee Shop   \n2       Burlington Farmers' Market  44.476528 -73.213548  Farmers Market   \n3  Mad River Distillers Burlington  44.476062 -73.214180      Distillery   \n4        The Farmhouse Tap & Grill  44.478278 -73.213233       Gastropub   \n\n   center_dist  \n0     0.104825  \n1     0.179838  \n2     0.065400  \n3     0.101947  \n4     0.236785  ",
                        "text/html": "<div>\n<style scoped>\n    .dataframe tbody tr th:only-of-type {\n        vertical-align: middle;\n    }\n\n    .dataframe tbody tr th {\n        vertical-align: top;\n    }\n\n    .dataframe thead th {\n        text-align: right;\n    }\n</style>\n<table border=\"1\" class=\"dataframe\">\n  <thead>\n    <tr style=\"text-align: right;\">\n      <th></th>\n      <th>name</th>\n      <th>lat</th>\n      <th>lng</th>\n      <th>categories</th>\n      <th>center_dist</th>\n    </tr>\n  </thead>\n  <tbody>\n    <tr>\n      <th>0</th>\n      <td>American Flatbread</td>\n      <td>44.476618</td>\n      <td>-73.214058</td>\n      <td>Pizza Place</td>\n      <td>0.104825</td>\n    </tr>\n    <tr>\n      <th>1</th>\n      <td>Onyx Tonics</td>\n      <td>44.477074</td>\n      <td>-73.214772</td>\n      <td>Coffee Shop</td>\n      <td>0.179838</td>\n    </tr>\n    <tr>\n      <th>2</th>\n      <td>Burlington Farmers' Market</td>\n      <td>44.476528</td>\n      <td>-73.213548</td>\n      <td>Farmers Market</td>\n      <td>0.065400</td>\n    </tr>\n    <tr>\n      <th>3</th>\n      <td>Mad River Distillers Burlington</td>\n      <td>44.476062</td>\n      <td>-73.214180</td>\n      <td>Distillery</td>\n      <td>0.101947</td>\n    </tr>\n    <tr>\n      <th>4</th>\n      <td>The Farmhouse Tap &amp; Grill</td>\n      <td>44.478278</td>\n      <td>-73.213233</td>\n      <td>Gastropub</td>\n      <td>0.236785</td>\n    </tr>\n  </tbody>\n</table>\n</div>"
                    },
                    "metadata": {}
                }
            ]
        },
        {
            "metadata": {},
            "cell_type": "code",
            "source": "#average of all venues from city center\nprint(\"LA Average distance from city center:\", LA_venues['center_dist'].mean())\nprint(\"Burlington distance from city center:\", burlington_venues['center_dist'].mean())",
            "execution_count": 16,
            "outputs": [
                {
                    "output_type": "stream",
                    "text": "LA Average distance from city center: 0.6098027630776499\nBurlington distance from city center: 0.36849075264723063\n",
                    "name": "stdout"
                }
            ]
        },
        {
            "metadata": {},
            "cell_type": "code",
            "source": "#Now average by venue category for the two cities\nla_grouped_avg = LA_venues.groupby('categories')['center_dist'].mean().to_frame()\nburl_grouped_avg = burlington_venues.groupby('categories')['center_dist'].mean().to_frame()",
            "execution_count": 8,
            "outputs": []
        },
        {
            "metadata": {},
            "cell_type": "code",
            "source": "combined_venue_avg = la_grouped_avg.merge(burl_grouped_avg, left_on='categories', right_on='categories', how='outer', sort='categories')\ncombined_venue_avg.columns = ['LA_dist','Burl_dist']\nprint(\"Here are the average distances for each venue category for both cities:\")\ncombined_venue_avg",
            "execution_count": 17,
            "outputs": [
                {
                    "output_type": "stream",
                    "text": "Here are the average distances for each venue category for both cities:\n",
                    "name": "stdout"
                },
                {
                    "output_type": "execute_result",
                    "execution_count": 17,
                    "data": {
                        "text/plain": "                                LA_dist  Burl_dist\ncategories                                        \nAccessories Store                   NaN   0.363700\nAmerican Restaurant            0.356410   0.203655\nAquarium                            NaN   0.663499\nArt Gallery                    0.511891        NaN\nArt Museum                     0.708762   0.984886\n...                                 ...        ...\nUdon Restaurant                0.491567        NaN\nVegetarian / Vegan Restaurant       NaN   0.194302\nWine Shop                           NaN   0.845053\nYoga Studio                         NaN   0.548432\nYoshoku Restaurant             0.509882        NaN\n\n[101 rows x 2 columns]",
                        "text/html": "<div>\n<style scoped>\n    .dataframe tbody tr th:only-of-type {\n        vertical-align: middle;\n    }\n\n    .dataframe tbody tr th {\n        vertical-align: top;\n    }\n\n    .dataframe thead th {\n        text-align: right;\n    }\n</style>\n<table border=\"1\" class=\"dataframe\">\n  <thead>\n    <tr style=\"text-align: right;\">\n      <th></th>\n      <th>LA_dist</th>\n      <th>Burl_dist</th>\n    </tr>\n    <tr>\n      <th>categories</th>\n      <th></th>\n      <th></th>\n    </tr>\n  </thead>\n  <tbody>\n    <tr>\n      <th>Accessories Store</th>\n      <td>NaN</td>\n      <td>0.363700</td>\n    </tr>\n    <tr>\n      <th>American Restaurant</th>\n      <td>0.356410</td>\n      <td>0.203655</td>\n    </tr>\n    <tr>\n      <th>Aquarium</th>\n      <td>NaN</td>\n      <td>0.663499</td>\n    </tr>\n    <tr>\n      <th>Art Gallery</th>\n      <td>0.511891</td>\n      <td>NaN</td>\n    </tr>\n    <tr>\n      <th>Art Museum</th>\n      <td>0.708762</td>\n      <td>0.984886</td>\n    </tr>\n    <tr>\n      <th>...</th>\n      <td>...</td>\n      <td>...</td>\n    </tr>\n    <tr>\n      <th>Udon Restaurant</th>\n      <td>0.491567</td>\n      <td>NaN</td>\n    </tr>\n    <tr>\n      <th>Vegetarian / Vegan Restaurant</th>\n      <td>NaN</td>\n      <td>0.194302</td>\n    </tr>\n    <tr>\n      <th>Wine Shop</th>\n      <td>NaN</td>\n      <td>0.845053</td>\n    </tr>\n    <tr>\n      <th>Yoga Studio</th>\n      <td>NaN</td>\n      <td>0.548432</td>\n    </tr>\n    <tr>\n      <th>Yoshoku Restaurant</th>\n      <td>0.509882</td>\n      <td>NaN</td>\n    </tr>\n  </tbody>\n</table>\n<p>101 rows \u00d7 2 columns</p>\n</div>"
                    },
                    "metadata": {}
                }
            ]
        },
        {
            "metadata": {},
            "cell_type": "code",
            "source": "#create dataframe for the categories the exist in both cities\ncombined_venue_avg_inner = la_grouped_avg.merge(burl_grouped_avg, left_on='categories', right_on='categories', how='inner', sort='categories')\ncombined_venue_avg_inner.columns = ['LA_dist','Burl_dist']\ncombined_venue_avg_inner\n\n#perform t test on the average distances for the two cities\nfrom scipy import stats\nstats.ttest_ind(combined_venue_avg_inner['LA_dist'], combined_venue_avg_inner['Burl_dist'])\n",
            "execution_count": 10,
            "outputs": [
                {
                    "output_type": "execute_result",
                    "execution_count": 10,
                    "data": {
                        "text/plain": "Ttest_indResult(statistic=3.3934381358190735, pvalue=0.0014290500500426819)"
                    },
                    "metadata": {}
                }
            ]
        },
        {
            "metadata": {},
            "cell_type": "code",
            "source": "#Now get a count of each venue category for the two cities\nla_grouped_count = LA_venues[['name', 'categories']].groupby('categories').count()\nburl_grouped_count = burlington_venues[['name', 'categories']].groupby('categories').count()\nla_total = len(la_grouped_count.index)\nburl_total = len(burl_grouped_count.index)\ncombined_venue_count = la_grouped_count.merge(burl_grouped_count, left_on='categories', right_on='categories', how='outer', sort='categories')\ncombined_venue_count.columns = ['LA_count','Burl_count']\ncombined_venue_count.fillna(0, inplace=True)\ncombined_venue_count['LA_pct'] = combined_venue_count['LA_count']/la_total\ncombined_venue_count['Burl_pct'] = combined_venue_count['Burl_count']/burl_total\nprint(\"The percentages of each venue category between the two cities are:\")\ncombined_venue_count",
            "execution_count": 18,
            "outputs": [
                {
                    "output_type": "stream",
                    "text": "The percentages of each venue category between the two cities are:\n",
                    "name": "stdout"
                },
                {
                    "output_type": "execute_result",
                    "execution_count": 18,
                    "data": {
                        "text/plain": "                               LA_count  Burl_count    LA_pct  Burl_pct\ncategories                                                             \nAccessories Store                   0.0         1.0  0.000000  0.014925\nAmerican Restaurant                 1.0         2.0  0.017241  0.029851\nAquarium                            0.0         1.0  0.000000  0.014925\nArt Gallery                         1.0         0.0  0.017241  0.000000\nArt Museum                          2.0         1.0  0.034483  0.014925\n...                                 ...         ...       ...       ...\nUdon Restaurant                     1.0         0.0  0.017241  0.000000\nVegetarian / Vegan Restaurant       0.0         2.0  0.000000  0.029851\nWine Shop                           0.0         1.0  0.000000  0.014925\nYoga Studio                         0.0         2.0  0.000000  0.029851\nYoshoku Restaurant                  1.0         0.0  0.017241  0.000000\n\n[101 rows x 4 columns]",
                        "text/html": "<div>\n<style scoped>\n    .dataframe tbody tr th:only-of-type {\n        vertical-align: middle;\n    }\n\n    .dataframe tbody tr th {\n        vertical-align: top;\n    }\n\n    .dataframe thead th {\n        text-align: right;\n    }\n</style>\n<table border=\"1\" class=\"dataframe\">\n  <thead>\n    <tr style=\"text-align: right;\">\n      <th></th>\n      <th>LA_count</th>\n      <th>Burl_count</th>\n      <th>LA_pct</th>\n      <th>Burl_pct</th>\n    </tr>\n    <tr>\n      <th>categories</th>\n      <th></th>\n      <th></th>\n      <th></th>\n      <th></th>\n    </tr>\n  </thead>\n  <tbody>\n    <tr>\n      <th>Accessories Store</th>\n      <td>0.0</td>\n      <td>1.0</td>\n      <td>0.000000</td>\n      <td>0.014925</td>\n    </tr>\n    <tr>\n      <th>American Restaurant</th>\n      <td>1.0</td>\n      <td>2.0</td>\n      <td>0.017241</td>\n      <td>0.029851</td>\n    </tr>\n    <tr>\n      <th>Aquarium</th>\n      <td>0.0</td>\n      <td>1.0</td>\n      <td>0.000000</td>\n      <td>0.014925</td>\n    </tr>\n    <tr>\n      <th>Art Gallery</th>\n      <td>1.0</td>\n      <td>0.0</td>\n      <td>0.017241</td>\n      <td>0.000000</td>\n    </tr>\n    <tr>\n      <th>Art Museum</th>\n      <td>2.0</td>\n      <td>1.0</td>\n      <td>0.034483</td>\n      <td>0.014925</td>\n    </tr>\n    <tr>\n      <th>...</th>\n      <td>...</td>\n      <td>...</td>\n      <td>...</td>\n      <td>...</td>\n    </tr>\n    <tr>\n      <th>Udon Restaurant</th>\n      <td>1.0</td>\n      <td>0.0</td>\n      <td>0.017241</td>\n      <td>0.000000</td>\n    </tr>\n    <tr>\n      <th>Vegetarian / Vegan Restaurant</th>\n      <td>0.0</td>\n      <td>2.0</td>\n      <td>0.000000</td>\n      <td>0.029851</td>\n    </tr>\n    <tr>\n      <th>Wine Shop</th>\n      <td>0.0</td>\n      <td>1.0</td>\n      <td>0.000000</td>\n      <td>0.014925</td>\n    </tr>\n    <tr>\n      <th>Yoga Studio</th>\n      <td>0.0</td>\n      <td>2.0</td>\n      <td>0.000000</td>\n      <td>0.029851</td>\n    </tr>\n    <tr>\n      <th>Yoshoku Restaurant</th>\n      <td>1.0</td>\n      <td>0.0</td>\n      <td>0.017241</td>\n      <td>0.000000</td>\n    </tr>\n  </tbody>\n</table>\n<p>101 rows \u00d7 4 columns</p>\n</div>"
                    },
                    "metadata": {}
                }
            ]
        },
        {
            "metadata": {},
            "cell_type": "markdown",
            "source": "<H2>5. Discussion</H2>"
        },
        {
            "metadata": {},
            "cell_type": "markdown",
            "source": "Looking at all of the above data it appears that the trending venues in Los Angeles are _____ in comparison to those in Burlington."
        },
        {
            "metadata": {},
            "cell_type": "markdown",
            "source": ""
        },
        {
            "metadata": {},
            "cell_type": "markdown",
            "source": "<H2>6. Conclusion</H2>"
        },
        {
            "metadata": {},
            "cell_type": "markdown",
            "source": ""
        }
    ],
    "metadata": {
        "kernelspec": {
            "name": "python3",
            "display_name": "Python 3.7",
            "language": "python"
        },
        "language_info": {
            "name": "python",
            "version": "3.7.9",
            "mimetype": "text/x-python",
            "codemirror_mode": {
                "name": "ipython",
                "version": 3
            },
            "pygments_lexer": "ipython3",
            "nbconvert_exporter": "python",
            "file_extension": ".py"
        }
    },
    "nbformat": 4,
    "nbformat_minor": 1
}