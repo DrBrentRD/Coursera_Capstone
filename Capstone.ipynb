{
    "cells": [
        {
            "cell_type": "markdown",
            "metadata": {
                "collapsed": true
            },
            "source": "<H1>Coursera IBM Applied Datascience Capstone</H1>"
        },
        {
            "cell_type": "markdown",
            "metadata": {},
            "source": "<H2>1. Introduction</H2>"
        },
        {
            "cell_type": "markdown",
            "metadata": {},
            "source": "I'm going to examine the differences in trending venues between the two extremes of COVID-19 transmission. I'll compare Salt Lake City, Utah and Burlington, Vermont. Burlington is the largest city in Vermont with a population of just over 42,000. Currently, Burlington has one of the lowest transmission rate in the US. Chittenden county Vermont, where Burllington is located, has a infection rate of just over 15,000 per 1 million population. Salt Lake county, Utah has an infection rate of just under 90,000 per 1 million population.\n\nDispite the large difference in infection rates, the two cities have similar restrictions and mandates in place with regard to indoor and outdoor gatherings, face coverings, and sporting activities.\n\nSo, does a higher transmission rate impact which types of venues are trending in these two locations?"
        },
        {
            "cell_type": "markdown",
            "metadata": {},
            "source": "<H2>2. Data</H2>"
        },
        {
            "cell_type": "markdown",
            "metadata": {},
            "source": "Trending venue data will be obtained from FourSquare. Data on the infection rates of the two cities are obtained from the John's Hopkins' GitHub repository (https://raw.githubusercontent.com/CSSEGISandData/COVID-19/master/csse_covid_19_data/csse_covid_19_time_series/time_series_covid19_confirmed_US.csv).\n\nA majority of the analysis will center around the FourSquare data as the COVID data is only available at the county level. Being the largest cities in their respective counties their COVID numbers should match well those of the county as a whole.\n\nI'll do a closer analysis of the top 10 trending venue categories in each city using inferential statistics to see how they differ, if at all. I'll also look at clustering of the venues to see if venue locations (e.g. city center vs outskirts) differ between cities."
        },
        {
            "cell_type": "code",
            "execution_count": null,
            "metadata": {},
            "outputs": [],
            "source": "# The code was removed by Watson Studio for sharing."
        },
        {
            "cell_type": "markdown",
            "metadata": {},
            "source": "<H2>3. Methods</H2>"
        },
        {
            "cell_type": "markdown",
            "metadata": {},
            "source": "<H2>4. Results</H2>"
        },
        {
            "cell_type": "markdown",
            "metadata": {},
            "source": "<H2>5. Discussion</H2>"
        },
        {
            "cell_type": "markdown",
            "metadata": {},
            "source": "<H2>6. Conclusion</H2>"
        },
        {
            "cell_type": "code",
            "execution_count": null,
            "metadata": {},
            "outputs": [],
            "source": ""
        }
    ],
    "metadata": {
        "kernelspec": {
            "display_name": "Python 3.7",
            "language": "python",
            "name": "python3"
        },
        "language_info": {
            "codemirror_mode": {
                "name": "ipython",
                "version": 3
            },
            "file_extension": ".py",
            "mimetype": "text/x-python",
            "name": "python",
            "nbconvert_exporter": "python",
            "pygments_lexer": "ipython3",
            "version": "3.7.9"
        }
    },
    "nbformat": 4,
    "nbformat_minor": 1
}